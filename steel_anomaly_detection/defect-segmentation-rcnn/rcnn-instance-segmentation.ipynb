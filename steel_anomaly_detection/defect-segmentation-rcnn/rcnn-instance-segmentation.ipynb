{
 "cells": [
  {
   "cell_type": "markdown",
   "metadata": {},
   "source": [
    "# Rcnn-Instance-Segmentation"
   ]
  },
  {
   "cell_type": "code",
   "execution_count": null,
   "metadata": {
    "_cell_guid": "b1076dfc-b9ad-4769-8c92-a6c4dae69d19",
    "_uuid": "8f2839f25d086af736a60e9eeb907d3b93b6e0e5"
   },
   "outputs": [],
   "source": [
    "# Basics\n",
    "from glob import glob # finds pathnames\n",
    "import os # Miscellaneous operating system interfaces\n",
    "import sys\n",
    "import random\n",
    "import timeit\n",
    "import imp\n",
    "import gc\n",
    "\n",
    "import numpy as np \n",
    "import pandas as pd \n",
    "from scipy.ndimage import label as scipy_label\n",
    "from scipy.ndimage import generate_binary_structure\n",
    "from dices import *\n",
    "\n",
    "from mrcnn.config import Config\n",
    "import mrcnn.utils as utils\n",
    "import mrcnn.model as modellib\n",
    "import mrcnn.visualize as visualize\n",
    "from mrcnn.model import log\n",
    "\n",
    "import matplotlib.pyplot as plt\n",
    "\n",
    "from steel_dataset import SteelDataset\n",
    "from steel_config import s"
   ]
  },
  {
   "cell_type": "code",
   "execution_count": null,
   "metadata": {
    "_cell_guid": "79c7e3d0-c299-4dcb-8224-4455121ee9b0",
    "_uuid": "d629ff2d2480ee46fbb7e2d37f6b5fab8052498a"
   },
   "outputs": [],
   "source": [
    "ROOT_DIR = './input/'\n",
    "Train_Dir = ROOT_DIR + 'train_images/'\n",
    "Test_Dir = ROOT_DIR + 'test_images/'\n",
    "\n",
    "MODEL_DIR = 'logs'\n",
    "\n",
    "# trained weights file\n",
    "# Trained_Weights = 'logs/steel20191114T0608/mask_rcnn_steel_0066.h5'"
   ]
  },
  {
   "cell_type": "code",
   "execution_count": null,
   "metadata": {},
   "outputs": [],
   "source": [
    "config = SteelConfig()\n",
    "config.display()"
   ]
  },
  {
   "cell_type": "code",
   "execution_count": null,
   "metadata": {},
   "outputs": [],
   "source": [
    "# select files for test and validation dataset\n",
    "annotations_train = pd.read_csv(ROOT_DIR + 'train_1.csv')\n",
    "annotations_test = pd.read_csv(ROOT_DIR + 'val_1.csv')\n",
    "\n",
    "train = annotations_train['ImageId'].unique().copy()\n",
    "val = annotations_test['ImageId'].unique().copy()"
   ]
  },
  {
   "cell_type": "code",
   "execution_count": null,
   "metadata": {},
   "outputs": [],
   "source": [
    "dataset_train = SteelDataset()\n",
    "dataset_train.load_steel(ROOT_DIR, train)\n",
    "dataset_train.prepare()\n",
    "\n",
    "dataset_val = SteelDataset()\n",
    "dataset_val.load_steel(ROOT_DIR, val)\n",
    "dataset_val.prepare()\n",
    "\n",
    "model = modellib.MaskRCNN(mode=\"training\", config=config, model_dir=MODEL_DIR)\n",
    "model.keras_model.metrics_tensors = []"
   ]
  },
  {
   "cell_type": "code",
   "execution_count": null,
   "metadata": {},
   "outputs": [],
   "source": [
    "# Train model\n",
    "timestart = timeit.default_timer()\n",
    "\n",
    "model.train(dataset_train, \n",
    "            dataset_val,\n",
    "            learning_rate=config.LEARNING_RATE,\n",
    "            epochs=config.EPOCHS,\n",
    "            layers='all')"
   ]
  },
  {
   "cell_type": "code",
   "execution_count": null,
   "metadata": {},
   "outputs": [],
   "source": [
    "# create model for inferring\n",
    "infer_config = SteelConfig()\n",
    "infer_config.BATCH_SIZE=1\n",
    "infer_config.IMAGES_PER_GPU=1\n",
    "infer_config.DETECTION_MIN_CONFIDENCE=.5\n",
    "infer_config.DETECTION_NMS_THRESHOLD=.5\n",
    "model_infer = modellib.MaskRCNN(mode=\"inference\", config=infer_config, model_dir=MODEL_DIR)\n",
    "model_infer.load_weights('logs/steel20191209T0236/mask_rcnn_steel_0091.h5', by_name=True)"
   ]
  },
  {
   "cell_type": "code",
   "execution_count": null,
   "metadata": {},
   "outputs": [],
   "source": [
    "from tqdm import tqdm\n",
    "# calculate validation set positive and negative indices\n",
    "pos = 0\n",
    "neg = 0\n",
    "for image_id in tqdm(range(500)):\n",
    "# for image_id in range(3):\n",
    "    image = dataset_train.load_image(image_id)\n",
    "    mask, class_ids = dataset_train.load_mask(image_id)\n",
    "    rr = model_infer.detect([image])\n",
    "    r = rr[0]\n",
    "    score = get_score(mask, class_ids, r)\n",
    "    pos += score[0]\n",
    "    neg += score[1]\n",
    "pos /= len(val)\n",
    "neg /= len(val)"
   ]
  }
 ],
 "metadata": {
  "kernelspec": {
   "display_name": "Python 3",
   "language": "python",
   "name": "python3"
  },
  "language_info": {
   "codemirror_mode": {
    "name": "ipython",
    "version": 3
   },
   "file_extension": ".py",
   "mimetype": "text/x-python",
   "name": "python",
   "nbconvert_exporter": "python",
   "pygments_lexer": "ipython3",
   "version": "3.5.3"
  }
 },
 "nbformat": 4,
 "nbformat_minor": 4
}
